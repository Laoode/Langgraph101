{
 "cells": [
  {
   "cell_type": "markdown",
   "id": "a7c0a0d0",
   "metadata": {},
   "source": [
    "# Hello World LangGraph"
   ]
  },
  {
   "cell_type": "markdown",
   "id": "f6d7c57e",
   "metadata": {},
   "source": [
    "<svg version=\"1.1\" xmlns=\"http://www.w3.org/2000/svg\" viewBox=\"0 0 220.3742412852207 472.55619315201585\" width=\"220.3742412852207\" height=\"472.55619315201585\"><!-- svg-source:excalidraw --><metadata></metadata><defs><style class=\"style-fonts\">\n",
    "      @font-face { font-family: Excalifont; src: url(data:font/woff2;base64,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); }</style></defs><rect x=\"0\" y=\"0\" width=\"220.3742412852207\" height=\"472.55619315201585\" fill=\"#121f12\"></rect><g stroke-linecap=\"round\" transform=\"translate(10 10) rotate(0 98.48816983648317 37.67058348444803)\"><path d=\"M18.84 0 C74.41 -2.99, 124.46 -0.75, 178.14 0 C191.97 0.75, 195.13 3.49, 196.98 18.84 C197.23 33.3, 199.58 44.75, 196.98 56.51 C199.39 65.91, 193.14 77.58, 178.14 75.34 C126.05 76.21, 79.65 76.76, 18.84 75.34 C4.63 76.8, 3.25 67.51, 0 56.51 C0.17 46.1, -1.77 30.92, 0 18.84 C2.84 7.47, 8.89 -3.59, 18.84 0\" stroke=\"none\" stroke-width=\"0\" fill=\"#ebfbee\"></path><path d=\"M18.84 0 C70.96 1.67, 127.06 2.18, 178.14 0 M18.84 0 C81.28 -1.12, 143.07 0.3, 178.14 0 M178.14 0 C190.04 -0.64, 196.73 6.01, 196.98 18.84 M178.14 0 C190.02 1.16, 197.85 7.17, 196.98 18.84 M196.98 18.84 C197.31 30.63, 196.73 43.31, 196.98 56.51 M196.98 18.84 C197.06 27.69, 196.66 36.27, 196.98 56.51 M196.98 56.51 C197.3 70.89, 192.44 76.64, 178.14 75.34 M196.98 56.51 C197.16 68.86, 192.74 77.17, 178.14 75.34 M178.14 75.34 C133.22 75.8, 86.03 74.6, 18.84 75.34 M178.14 75.34 C135.15 74.87, 93.58 74.15, 18.84 75.34 M18.84 75.34 C8.27 73.55, -0.68 67.32, 0 56.51 M18.84 75.34 C7.61 76.75, 1.8 68.74, 0 56.51 M0 56.51 C-0.33 50.18, -0.42 39.8, 0 18.84 M0 56.51 C-0.63 42.39, -0.5 29.87, 0 18.84 M0 18.84 C0.98 5.54, 5.48 -0.9, 18.84 0 M0 18.84 C0.65 6.31, 5.27 1.13, 18.84 0\" stroke=\"#69db7c\" stroke-width=\"2\" fill=\"none\"></path></g><g transform=\"translate(59.060191320858394 25.170583484448002) rotate(0 49.427978515625 22.5)\"><text x=\"49.427978515625\" y=\"31.716\" font-family=\"Excalifont, Xiaolai, sans-serif, Segoe UI Emoji\" font-size=\"36px\" fill=\"#69db7c\" text-anchor=\"middle\" style=\"white-space: pre;\" direction=\"ltr\" dominant-baseline=\"alphabetic\">Start</text></g><g stroke-linecap=\"round\" transform=\"translate(13.397901612254373 387.2150261831198) rotate(0 98.48816983648317 37.67058348444803)\"><path d=\"M18.84 0 C56.51 -0.54, 91.06 0.78, 178.14 0 C193.88 -0.4, 195.11 4.52, 196.98 18.84 C198.55 29.34, 195.95 36.69, 196.98 56.51 C197.34 66.43, 192.19 75.44, 178.14 75.34 C120.38 79.34, 62.57 77.08, 18.84 75.34 C9.67 73.69, 2.82 69.64, 0 56.51 C1.38 45.08, -2.37 28.54, 0 18.84 C-2.43 7.14, 7.84 0.95, 18.84 0\" stroke=\"none\" stroke-width=\"0\" fill=\"#ebfbee\"></path><path d=\"M18.84 0 C71.09 2.36, 121.39 2.75, 178.14 0 M18.84 0 C70.07 0.6, 122.7 -0.19, 178.14 0 M178.14 0 C191.62 -0.62, 197.54 6.78, 196.98 18.84 M178.14 0 C192.41 -1.59, 198.06 6.09, 196.98 18.84 M196.98 18.84 C196.77 34.45, 194.8 44.74, 196.98 56.51 M196.98 18.84 C196.36 28.93, 196.94 38.01, 196.98 56.51 M196.98 56.51 C196.68 69.3, 191.46 75.17, 178.14 75.34 M196.98 56.51 C195.02 68.58, 190.04 75.41, 178.14 75.34 M178.14 75.34 C126.24 76.52, 69.78 77.22, 18.84 75.34 M178.14 75.34 C145.27 76.51, 110.51 76.04, 18.84 75.34 M18.84 75.34 C7.51 74.14, -0.75 67.58, 0 56.51 M18.84 75.34 C4.07 77.51, -1.38 71.12, 0 56.51 M0 56.51 C-0.61 46.17, 1.51 31.09, 0 18.84 M0 56.51 C0.69 46.04, -0.87 37.86, 0 18.84 M0 18.84 C-1.17 6.33, 6.86 0.16, 18.84 0 M0 18.84 C2.24 6.67, 4.15 -0.37, 18.84 0\" stroke=\"#69db7c\" stroke-width=\"2\" fill=\"none\"></path></g><g transform=\"translate(78.80207944434278 402.3856096675678) rotate(0 33.08399200439453 22.5)\"><text x=\"33.08399200439453\" y=\"31.716\" font-family=\"Excalifont, Xiaolai, sans-serif, Segoe UI Emoji\" font-size=\"36px\" fill=\"#69db7c\" text-anchor=\"middle\" style=\"white-space: pre;\" direction=\"ltr\" dominant-baseline=\"alphabetic\">End</text></g><g stroke-linecap=\"round\"><g transform=\"translate(104.40343415932284 85.34116696889606) rotate(0 0 151.23419591146822)\"><path d=\"M0.52 0.96 C0.42 51.38, -1.01 251.61, -1.17 302.01 M-0.66 0.42 C-0.37 51.05, 1.06 253.13, 0.92 303.3\" stroke=\"#69db7c\" stroke-width=\"2\" fill=\"none\"></path></g></g><mask></mask><g stroke-linecap=\"round\" transform=\"translate(40.20193258265954 172.4827718644495) rotate(0 66.26393232963619 63.994636654934425)\"><path d=\"M46.67 2.64 C55.45 -1.04, 66.83 -0.61, 76.93 1.13 C87.03 2.88, 99.12 6.96, 107.25 13.13 C115.38 19.31, 121.65 29.12, 125.71 38.2 C129.78 47.29, 132.06 57.98, 131.64 67.62 C131.22 77.27, 128.42 87.73, 123.19 96.07 C117.95 104.4, 109.03 112.34, 100.23 117.63 C91.43 122.93, 80.68 126.91, 70.4 127.83 C60.11 128.74, 47.99 127.11, 38.51 123.12 C29.03 119.13, 19.7 111.65, 13.53 103.89 C7.36 96.13, 3.29 86.37, 1.5 76.56 C-0.3 66.76, -0.3 54.53, 2.76 45.08 C5.82 35.63, 10.69 27.35, 19.85 19.86 C29.01 12.38, 49.53 3.17, 57.73 0.18 C65.92 -2.81, 68.8 0.94, 69.03 1.92 M61.69 1.01 C71.32 -0.5, 83.91 1.43, 93.09 5.12 C102.28 8.8, 110.65 15.32, 116.81 23.12 C122.97 30.93, 127.96 42.1, 130.08 51.94 C132.19 61.79, 131.94 73.11, 129.51 82.2 C127.07 91.3, 122.6 99.39, 115.46 106.51 C108.32 113.63, 96.74 121.65, 86.67 124.93 C76.6 128.2, 65 127.6, 55.05 126.18 C45.11 124.76, 35.28 121.92, 26.99 116.42 C18.7 110.91, 9.73 102.47, 5.3 93.16 C0.87 83.84, -0.2 70.75, 0.39 60.54 C0.98 50.34, 3.62 40.16, 8.83 31.94 C14.03 23.71, 23.04 16.35, 31.64 11.19 C40.24 6.02, 55.72 2.49, 60.44 0.95 C65.17 -0.59, 59.85 0.82, 60 1.95\" stroke=\"none\" stroke-width=\"0\" fill=\"#ebfbee\"></path><path d=\"M62.22 -0.19 C72 -1.7, 84.98 2.09, 94.5 6.08 C104.02 10.07, 112.99 15.88, 119.32 23.74 C125.65 31.6, 130.8 43.26, 132.47 53.22 C134.14 63.18, 132.72 74.04, 129.33 83.5 C125.95 92.97, 119.3 103.16, 112.15 110.03 C105 116.9, 96.01 121.76, 86.44 124.73 C76.87 127.7, 64.85 129.77, 54.73 127.86 C44.6 125.94, 33.96 119.41, 25.67 113.23 C17.37 107.05, 9.17 99.6, 4.94 90.77 C0.71 81.94, -0.4 70.3, 0.3 60.26 C1 50.22, 3.73 39.2, 9.12 30.54 C14.52 21.88, 21.64 13.49, 32.67 8.32 C43.7 3.16, 66.41 0.08, 75.28 -0.45 C84.15 -0.98, 85.98 3.97, 85.88 5.14 M74.95 0.18 C84.84 0.24, 97.26 5.8, 105.48 11.52 C113.7 17.24, 119.59 25.53, 124.26 34.49 C128.93 43.44, 133.62 55.35, 133.51 65.26 C133.41 75.18, 128.52 85.5, 123.65 93.97 C118.77 102.43, 112.47 110.26, 104.26 116.06 C96.06 121.86, 84.6 127.42, 74.41 128.75 C64.23 130.08, 52.79 127.97, 43.16 124.02 C33.53 120.07, 23.32 112.75, 16.65 105.06 C9.97 97.36, 5.36 87.33, 3.12 77.85 C0.88 68.36, 1.09 57.64, 3.2 48.14 C5.32 38.63, 9.39 27.98, 15.83 20.83 C22.27 13.68, 32.24 8.79, 41.86 5.22 C51.48 1.66, 67.89 0.05, 73.56 -0.56 C79.24 -1.17, 75.78 0.21, 75.89 1.55\" stroke=\"#69db7c\" stroke-width=\"2\" fill=\"none\"></path></g><g transform=\"translate(63.52488300915411 211.02874518878326) rotate(0 42.73199462890625 22.5)\"><text x=\"0\" y=\"31.716\" font-family=\"Excalifont, Xiaolai, sans-serif, Segoe UI Emoji\" font-size=\"36px\" fill=\"#69db7c\" text-anchor=\"start\" style=\"white-space: pre;\" direction=\"ltr\" dominant-baseline=\"alphabetic\">Node</text></g></svg>"
   ]
  },
  {
   "cell_type": "code",
   "execution_count": 1,
   "id": "a4f562b9",
   "metadata": {},
   "outputs": [],
   "source": [
    "from typing import Dict, TypedDict\n",
    "from langgraph.graph import StateGraph"
   ]
  },
  {
   "cell_type": "code",
   "execution_count": 2,
   "id": "1b48cf04",
   "metadata": {},
   "outputs": [],
   "source": [
    "class StateAgent(TypedDict): #--> state schema\n",
    "    message: str\n",
    "    name: str"
   ]
  },
  {
   "cell_type": "code",
   "execution_count": 3,
   "id": "4e25bfbc",
   "metadata": {},
   "outputs": [],
   "source": [
    "def sayHello(state: StateAgent)-> StateAgent: #--> This is a function/operation inside node\n",
    "    state['message'] = \"hello \" + state['message'] + \", How are u?\"\n",
    "\n",
    "    return state"
   ]
  },
  {
   "cell_type": "code",
   "execution_count": null,
   "id": "3502d2ec",
   "metadata": {},
   "outputs": [],
   "source": [
    "def sayName(state: StateAgent)-> StateAgent:\n",
    "    state['name'] = state['name'] + \", you're doing an amazing job learning LangGraph\"\n",
    "\n",
    "    return state"
   ]
  },
  {
   "cell_type": "code",
   "execution_count": 4,
   "id": "99ff0884",
   "metadata": {},
   "outputs": [],
   "source": [
    "# how to create graph?\n",
    "graph = StateGraph(StateAgent)\n",
    "# remember; graph is the overarching for all node are connected and excecuted"
   ]
  },
  {
   "cell_type": "code",
   "execution_count": 5,
   "id": "974fcc27",
   "metadata": {},
   "outputs": [],
   "source": [
    "# and yeah, of course we have to first the start point and end the point\n",
    "graph.set_entry_point(\"hello\")\n",
    "# we just add node 1\n",
    "graph.add_node(\"hello\", sayHello)\n",
    "# end node 1\n",
    "graph.set_finish_point(\"hello\")\n",
    "# If the entry and finish are the same, the graph only executes 1 node.\n",
    "# If the entry and finish are different, the graph will run from the start node → … → finish node.\n",
    "\n",
    "# after that we have to make the entire graph with compile all\n",
    "app = graph.compile()"
   ]
  },
  {
   "cell_type": "code",
   "execution_count": 17,
   "id": "9d9e3579",
   "metadata": {},
   "outputs": [],
   "source": [
    "\n",
    "# and yeah, of course we have to first the start point and end the point\n",
    "graph.set_entry_point(\"sayName\")\n",
    "# we just add node 1\n",
    "graph.add_node(\"sayName\", sayName)\n",
    "# end node 1\n",
    "graph.set_finish_point(\"sayName\")\n",
    "# If the entry and finish are the same, the graph only executes 1 node.\n",
    "# If the entry and finish are different, the graph will run from the start node → … → finish node.\n",
    "\n",
    "# after that we have to make the entire graph with compile all\n",
    "app = graph.compile()"
   ]
  },
  {
   "cell_type": "code",
   "execution_count": 6,
   "id": "c80b11a9",
   "metadata": {},
   "outputs": [],
   "source": [
    "result = app.invoke({\"message\":\"world\"})\n",
    "\n",
    "# ➡️ invoke = how to run a graph with specific input.\n",
    "# The input is in the form of a dictionary (key = field name in the state, value = data).\n",
    "# So { \"message\": \"yudhy\" } means you give the initial state to the graph."
   ]
  },
  {
   "cell_type": "code",
   "execution_count": 7,
   "id": "07666300",
   "metadata": {},
   "outputs": [
    {
     "data": {
      "text/plain": [
       "'hello world, How are u?'"
      ]
     },
     "execution_count": 7,
     "metadata": {},
     "output_type": "execute_result"
    }
   ],
   "source": [
    "result[\"message\"]"
   ]
  },
  {
   "cell_type": "code",
   "execution_count": 18,
   "id": "7e4c8d54",
   "metadata": {},
   "outputs": [],
   "source": [
    "result_name = app.invoke({\"name\":\"yudhy\"})"
   ]
  },
  {
   "cell_type": "code",
   "execution_count": 20,
   "id": "95a9d491",
   "metadata": {},
   "outputs": [
    {
     "data": {
      "text/plain": [
       "\"yudhy, you're doing an amazing job learning LangGraph\""
      ]
     },
     "execution_count": 20,
     "metadata": {},
     "output_type": "execute_result"
    }
   ],
   "source": [
    "result_name[\"name\"]"
   ]
  },
  {
   "cell_type": "markdown",
   "id": "35efc0aa",
   "metadata": {},
   "source": [
    "📌 Brief sequence:\n",
    "\n",
    "1. You call app.invoke({\"message\": \"yudhy\"})\n",
    "2. Initial state → {\"message\": \"yudhy\"}\n",
    "3. Graph runs node → updates state['message']\n",
    "4. State becomes {\"message\": \"hello yudhy, How are you?\"}\n",
    "5. Final result appears in result"
   ]
  },
  {
   "cell_type": "markdown",
   "id": "2ca9b985",
   "metadata": {},
   "source": [
    "for visualization"
   ]
  },
  {
   "cell_type": "code",
   "execution_count": 6,
   "id": "9b1f420b",
   "metadata": {},
   "outputs": [
    {
     "data": {
      "image/png": "[encoded data removed]",
      "text/plain": [
       "<IPython.core.display.Image object>"
      ]
     },
     "metadata": {},
     "output_type": "display_data"
    }
   ],
   "source": [
    "from IPython.display import Image, display\n",
    "display(Image(app.get_graph().draw_mermaid_png()))"
   ]
  },
  {
   "cell_type": "code",
   "execution_count": 21,
   "id": "623699a9",
   "metadata": {},
   "outputs": [
    {
     "data": {
      "image/png": "[encoded data removed]",
      "text/plain": [
       "<IPython.core.display.Image object>"
      ]
     },
     "metadata": {},
     "output_type": "display_data"
    }
   ],
   "source": [
    "from IPython.display import Image, display\n",
    "display(Image(app.get_graph().draw_mermaid_png()))"
   ]
  }
 ],
 "metadata": {
  "kernelspec": {
   "display_name": "Python 3",
   "language": "python",
   "name": "python3"
  },
  "language_info": {
   "codemirror_mode": {
    "name": "ipython",
    "version": 3
   },
   "file_extension": ".py",
   "mimetype": "text/x-python",
   "name": "python",
   "nbconvert_exporter": "python",
   "pygments_lexer": "ipython3",
   "version": "3.11.9"
  }
 },
 "nbformat": 4,
 "nbformat_minor": 5
}
