{
 "cells": [
  {
   "cell_type": "markdown",
   "id": "06bc03a2",
   "metadata": {},
   "source": [
    "# Looping Graph"
   ]
  },
  {
   "cell_type": "markdown",
   "id": "d737160e",
   "metadata": {},
   "source": [
    "<svg version=\"1.1\" xmlns=\"http://www.w3.org/2000/svg\" viewBox=\"0 0 376.487332444412 528.2166371414414\" width=\"376.487332444412\" height=\"528.2166371414414\"><!-- svg-source:excalidraw --><metadata></metadata><defs><style class=\"style-fonts\">\n",
    "      @font-face { font-family: Excalifont; src: url(data:font/woff2;base64,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); }</style></defs><rect x=\"0\" y=\"0\" width=\"376.487332444412\" height=\"528.2166371414414\" fill=\"#121f12\"></rect><g stroke-linecap=\"round\"><g transform=\"translate(238.3417554659536 75.41402037419925) rotate(0 0 108.96556393283976)\"><path d=\"M1.16 -0.24 C0.99 36.29, -0.72 182.39, -0.92 218.66 M0.31 -1.41 C0.51 34.83, 1.5 180.28, 1.3 216.92\" stroke=\"#69db7c\" stroke-width=\"2\" fill=\"none\"></path></g></g><mask></mask><g stroke-linecap=\"round\" transform=\"translate(159.91430828382227 10) rotate(0 82.591724698073 32.62025550867742)\"><path d=\"M16.31 0 C65.55 -3.63, 117.3 -2.73, 148.87 0 C159.03 1.35, 167.02 5.78, 165.18 16.31 C168.33 22.94, 167.39 32.6, 165.18 48.93 C163.53 61.69, 163.17 68.25, 148.87 65.24 C122.56 62.78, 92.04 62.61, 16.31 65.24 C7.84 66.74, 2.06 56.35, 0 48.93 C2.89 39.13, 3.02 28.88, 0 16.31 C-1.14 8.16, 4.32 -2.29, 16.31 0\" stroke=\"none\" stroke-width=\"0\" fill=\"#ebfbee\"></path><path d=\"M16.31 0 C64.71 -1.27, 111.43 1.37, 148.87 0 M16.31 0 C56.4 0.21, 96.83 1.07, 148.87 0 M148.87 0 C160.27 -0.71, 163.54 6.09, 165.18 16.31 M148.87 0 C159.44 -0.52, 164.68 4.65, 165.18 16.31 M165.18 16.31 C164.88 25.44, 163.89 36.74, 165.18 48.93 M165.18 16.31 C164.9 26.28, 166.23 36.31, 165.18 48.93 M165.18 48.93 C166.19 59.28, 157.96 64.73, 148.87 65.24 M165.18 48.93 C166.94 61.75, 158.21 65.11, 148.87 65.24 M148.87 65.24 C118.67 64.29, 91.35 65.61, 16.31 65.24 M148.87 65.24 C121 66.39, 94.54 65.8, 16.31 65.24 M16.31 65.24 C6.45 63.65, -1.79 59.06, 0 48.93 M16.31 65.24 C7.26 63.52, -1.16 57.66, 0 48.93 M0 48.93 C-0.31 38.86, 2.03 30.61, 0 16.31 M0 48.93 C0.06 41.25, 0.62 34.77, 0 16.31 M0 16.31 C1.46 4.36, 5.6 0.88, 16.31 0 M0 16.31 C1.26 7.27, 7.19 -1.28, 16.31 0\" stroke=\"#69db7c\" stroke-width=\"2\" fill=\"none\"></path></g><g transform=\"translate(204.0620479965437 25.120255508677417) rotate(0 38.44398498535156 17.5)\"><text x=\"38.44398498535156\" y=\"24.668\" font-family=\"Excalifont, Xiaolai, sans-serif, Segoe UI Emoji\" font-size=\"28px\" fill=\"#69db7c\" text-anchor=\"middle\" style=\"white-space: pre;\" direction=\"ltr\" dominant-baseline=\"alphabetic\">Start</text></g><g stroke-linecap=\"round\" transform=\"translate(162.69061684832513 155.75005724371147) rotate(0 78.42739423047124 30.538110131749562)\"><path d=\"M15.27 0 C47.93 3.76, 89.08 -2.46, 141.59 0 C150.61 -3.07, 159 7.14, 156.85 15.27 C155.36 23.98, 157.37 35.25, 156.85 45.81 C157.43 55.76, 150.78 57.65, 141.59 61.08 C100.63 63.32, 60.6 59.86, 15.27 61.08 C3.39 62.23, 0.01 56.96, 0 45.81 C-1.94 31.43, 2.71 18.98, 0 15.27 C-2.86 6.59, 8.27 1.35, 15.27 0\" stroke=\"none\" stroke-width=\"0\" fill=\"#ebfbee\"></path><path d=\"M15.27 0 C39.32 0.01, 66.19 -1.17, 141.59 0 M15.27 0 C59.22 1.92, 103.16 0.62, 141.59 0 M141.59 0 C149.9 -0.68, 155.75 3.45, 156.85 15.27 M141.59 0 C151.21 -1.61, 158.99 3.97, 156.85 15.27 M156.85 15.27 C156.46 19.64, 157.59 26.42, 156.85 45.81 M156.85 15.27 C157.13 27.21, 157.49 38.82, 156.85 45.81 M156.85 45.81 C155.74 57.72, 150.19 61.9, 141.59 61.08 M156.85 45.81 C155.59 54.29, 150.83 59.96, 141.59 61.08 M141.59 61.08 C106.4 59.84, 72.58 60.22, 15.27 61.08 M141.59 61.08 C95.25 61.21, 47.84 62.62, 15.27 61.08 M15.27 61.08 C6.76 59.46, 1.72 54.23, 0 45.81 M15.27 61.08 C6.84 60.84, 0.81 55.64, 0 45.81 M0 45.81 C-2.05 35.31, -2 24.01, 0 15.27 M0 45.81 C0.4 34.35, 0.66 23.21, 0 15.27 M0 15.27 C-1.27 3.47, 6.27 -1.96, 15.27 0 M0 15.27 C-1.67 3.41, 6.07 -1.89, 15.27 0\" stroke=\"#69db7c\" stroke-width=\"2\" fill=\"none\"></path></g><g transform=\"translate(186.68604238983153 168.78816737546106) rotate(0 54.431968688964844 17.5)\"><text x=\"54.431968688964844\" y=\"24.668\" font-family=\"Excalifont, Xiaolai, sans-serif, Segoe UI Emoji\" font-size=\"28px\" fill=\"#69db7c\" text-anchor=\"middle\" style=\"white-space: pre;\" direction=\"ltr\" dominant-baseline=\"alphabetic\">SayHello</text></g><g stroke-linecap=\"round\" transform=\"translate(160.89182172788423 294.1489934721124) rotate(0 78.42739423047124 30.538110131749562)\"><path d=\"M15.27 0 C56.88 3.73, 94.65 0.83, 141.59 0 C149.68 -0.67, 158.49 2.76, 156.85 15.27 C159.37 26.56, 155.95 28.31, 156.85 45.81 C154.23 58.21, 151.56 63.04, 141.59 61.08 C105.81 60.17, 72.73 61.96, 15.27 61.08 C8.63 58.87, 2.9 56.14, 0 45.81 C2.72 37.42, -1.33 29.3, 0 15.27 C1.25 4.93, 4.49 2.77, 15.27 0\" stroke=\"none\" stroke-width=\"0\" fill=\"#ebfbee\"></path><path d=\"M15.27 0 C54.53 -1.43, 98.15 -1.84, 141.59 0 M15.27 0 C58.88 -1.01, 103.76 -0.84, 141.59 0 M141.59 0 C152.19 -1.56, 155.4 4.24, 156.85 15.27 M141.59 0 C150.74 -0.12, 156.68 5.17, 156.85 15.27 M156.85 15.27 C157.61 25.56, 155.29 36.21, 156.85 45.81 M156.85 15.27 C156.18 24.02, 158.01 31.82, 156.85 45.81 M156.85 45.81 C158.27 56.85, 153.44 61.51, 141.59 61.08 M156.85 45.81 C155.31 56.4, 152.28 62.1, 141.59 61.08 M141.59 61.08 C112.56 60.26, 84.48 62.73, 15.27 61.08 M141.59 61.08 C111.71 60.16, 82.14 61.87, 15.27 61.08 M15.27 61.08 C5.58 60.72, 0.11 55.35, 0 45.81 M15.27 61.08 C6.16 61, -1.07 55.78, 0 45.81 M0 45.81 C1.64 34.74, -0.17 24.38, 0 15.27 M0 45.81 C-0.94 37.64, 0 27.88, 0 15.27 M0 15.27 C-1.67 5.92, 6.6 -1.56, 15.27 0 M0 15.27 C1.29 2.86, 6.25 -0.38, 15.27 0\" stroke=\"#69db7c\" stroke-width=\"2\" fill=\"none\"></path></g><g transform=\"translate(174.51925105357031 312.18710360386194) rotate(0 64.79996490478516 12.5)\"><text x=\"64.79996490478516\" y=\"17.619999999999997\" font-family=\"Excalifont, Xiaolai, sans-serif, Segoe UI Emoji\" font-size=\"20px\" fill=\"#69db7c\" text-anchor=\"middle\" style=\"white-space: pre;\" direction=\"ltr\" dominant-baseline=\"alphabetic\">Random Node</text></g><g stroke-linecap=\"round\" transform=\"translate(10 452.2820754587914) rotate(0 79.81552203689216 32.96728084132499)\"><path d=\"M16.48 0 C44.46 -1.38, 75.25 1.93, 143.15 0 C156.07 0.19, 161.14 7.07, 159.63 16.48 C156.79 25.42, 161.78 35.7, 159.63 49.45 C161.93 60.15, 157.73 62.35, 143.15 65.93 C107.32 66.9, 67.96 65.4, 16.48 65.93 C6.93 64.36, 1.7 59.9, 0 49.45 C2.92 42.71, 1.19 31.48, 0 16.48 C-1.27 3.8, 8.17 2.85, 16.48 0\" stroke=\"none\" stroke-width=\"0\" fill=\"#ebfbee\"></path><path d=\"M16.48 0 C55.57 2.56, 91.45 2.18, 143.15 0 M16.48 0 C42.46 0.41, 67.68 0.42, 143.15 0 M143.15 0 C155.86 -1.31, 159.74 4.34, 159.63 16.48 M143.15 0 C153.71 1.05, 158.14 4.58, 159.63 16.48 M159.63 16.48 C161.17 26.39, 157.73 35.95, 159.63 49.45 M159.63 16.48 C159.23 28.36, 158.64 39.58, 159.63 49.45 M159.63 49.45 C160.36 58.88, 155.86 67.9, 143.15 65.93 M159.63 49.45 C158.22 62.29, 154.24 66.07, 143.15 65.93 M143.15 65.93 C96.08 66.53, 49.17 67.73, 16.48 65.93 M143.15 65.93 C104.89 65.95, 68 66.08, 16.48 65.93 M16.48 65.93 C6.99 65.84, 0.45 59.24, 0 49.45 M16.48 65.93 C5.95 67.54, -1.15 58.37, 0 49.45 M0 49.45 C1.98 41.08, -1.13 35.44, 0 16.48 M0 49.45 C-0.07 39.64, 0.67 31.54, 0 16.48 M0 16.48 C-0.16 3.77, 4.51 0.07, 16.48 0 M0 16.48 C0.79 6.63, 7.43 0.69, 16.48 0\" stroke=\"#69db7c\" stroke-width=\"2\" fill=\"none\"></path></g><g transform=\"translate(52.10553821120857 462.74935630011635) rotate(0 37.709983825683594 22.5)\"><text x=\"37.709983825683594\" y=\"31.716\" font-family=\"Excalifont, Xiaolai, sans-serif, Segoe UI Emoji\" font-size=\"36px\" fill=\"#69db7c\" text-anchor=\"middle\" style=\"white-space: pre;\" direction=\"ltr\" dominant-baseline=\"alphabetic\">Exit</text></g><g stroke-linecap=\"round\"><g transform=\"translate(241.8119955545144 357.19751821289714) rotate(0 61.77025769087891 34.008336982394724)\"><path d=\"M0.64 -0.61 C2.02 15.39, -7.91 81.19, 9.17 95.58 C26.25 109.98, 84.13 99.01, 103.13 85.77 C122.12 72.53, 127.76 34.75, 123.16 16.15 C118.55 -2.44, 83.45 -18.83, 75.5 -25.8 M-0.48 1.68 C0.61 17.42, -9.31 80.43, 7.93 94.09 C25.17 107.75, 83.73 96.43, 102.94 83.64 C122.15 70.85, 127.48 35.48, 123.2 17.36 C118.92 -0.77, 85.04 -17.83, 77.25 -25.1\" stroke=\"#69db7c\" stroke-width=\"1\" fill=\"none\"></path></g></g><mask></mask><g stroke-linecap=\"round\"><g transform=\"translate(82.87498890811003 451.41451543665073) rotate(0 41.29586234903627 -47.54227862294695)\"><path d=\"M-0.62 0.39 C13.04 -15.48, 68.47 -78.34, 82.23 -94.24 M1.25 -0.46 C14.71 -16.74, 67.83 -80.39, 81.09 -95.91\" stroke=\"#69db7c\" stroke-width=\"1\" fill=\"none\"></path></g></g><mask></mask><g transform=\"translate(288.31319156055997 402.97278630182166) rotate(0 31.91998291015625 17.5)\"><text x=\"0\" y=\"24.668\" font-family=\"Excalifont, Xiaolai, sans-serif, Segoe UI Emoji\" font-size=\"28px\" fill=\"#69db7c\" text-anchor=\"start\" style=\"white-space: pre;\" direction=\"ltr\" dominant-baseline=\"alphabetic\">Loop</text></g></svg>"
   ]
  },
  {
   "cell_type": "code",
   "execution_count": 2,
   "id": "ecc93c2d",
   "metadata": {},
   "outputs": [],
   "source": [
    "from typing import Dict, TypedDict, List\n",
    "from langgraph.graph import StateGraph, END\n",
    "import random"
   ]
  },
  {
   "cell_type": "code",
   "execution_count": 40,
   "id": "f169ac20",
   "metadata": {},
   "outputs": [],
   "source": [
    "class AgentState(TypedDict):\n",
    "    name: str\n",
    "    guess: List[int]\n",
    "    lower_bound:int\n",
    "    upper_bound:int\n",
    "    attemp:int\n",
    "    target:int\n",
    "    hint:str"
   ]
  },
  {
   "cell_type": "code",
   "execution_count": 42,
   "id": "b6edc67b",
   "metadata": {},
   "outputs": [],
   "source": [
    "def setup(state: AgentState)->AgentState:\n",
    "    state['name'] = f\"Hai {state['name']}\"\n",
    "    state['target']=15\n",
    "\n",
    "    return state\n",
    "\n",
    "def guess(state: AgentState)->AgentState: \n",
    "    \n",
    "    state['guess'].append(random.randint(state['lower_bound'],state['upper_bound']))\n",
    "    state['attemp']+=1\n",
    "    return state\n",
    "\n",
    "def hint_node(state: AgentState)->AgentState:\n",
    "    latest_guess=state['guess'][-1]\n",
    "    target = state['target']\n",
    "    if latest_guess<target:\n",
    "        state[\"hint\"] = f\"The number {latest_guess} is too low. Try higher!\"\n",
    "        state['lower_bound']=latest_guess+1\n",
    "        print(f\"Hint: {state['hint']}\")\n",
    "    elif latest_guess>target:\n",
    "        state[\"hint\"] = f\"The number {latest_guess} is too high. Try lower!\"\n",
    "        state['upper_bound']=latest_guess-1\n",
    "        print(f\"Hint: {state['hint']}\")\n",
    "    elif latest_guess==target:\n",
    "        state[\"hint\"] = f\"Correct! You found the number {target} in {state['attemp']} attempts.\"\n",
    "        print(f\"Success! {state['hint']}\")\n",
    "    return state\n",
    "\n",
    "def should_continue(state: AgentState)->str:\n",
    "    if state['guess'][-1]==state['target']:\n",
    "        return \"exit\"\n",
    "    elif state['attemp']>=7:\n",
    "        return \"exit\"\n",
    "    else:\n",
    "        return \"continue\""
   ]
  },
  {
   "cell_type": "code",
   "execution_count": 46,
   "id": "877f7476",
   "metadata": {},
   "outputs": [
    {
     "data": {
      "text/plain": [
       "<langgraph.graph.state.StateGraph at 0x1ae359d7940>"
      ]
     },
     "execution_count": 46,
     "metadata": {},
     "output_type": "execute_result"
    }
   ],
   "source": [
    "graph = StateGraph(AgentState)\n",
    "\n",
    "graph.add_node('setup', setup)\n",
    "graph.add_node('guess_value', guess)\n",
    "graph.add_node('hint_node', hint_node)\n",
    "\n",
    "graph.add_edge('setup', 'guess_value')\n",
    "graph.add_edge('guess_value','hint_node')\n",
    "graph.add_conditional_edges(\n",
    "    'hint_node', #Source node\n",
    "    should_continue, #Action\n",
    "\n",
    "    {\n",
    "        'continue':'guess_value',\n",
    "        'exit': END\n",
    "    }\n",
    ")\n",
    "graph.set_entry_point('setup')"
   ]
  },
  {
   "cell_type": "code",
   "execution_count": 47,
   "id": "7b5b9795",
   "metadata": {},
   "outputs": [
    {
     "name": "stdout",
     "output_type": "stream",
     "text": [
      "Hint: The number 9 is too low. Try higher!\n",
      "Hint: The number 20 is too high. Try lower!\n",
      "Success! Correct! You found the number 15 in 3 attempts.\n"
     ]
    }
   ],
   "source": [
    "app = graph.compile()\n",
    "\n",
    "result = app.invoke({'name':'Yudhy', 'guess':[], 'attemp':0, 'lower_bound':1, 'upper_bound':20})"
   ]
  },
  {
   "cell_type": "code",
   "execution_count": 48,
   "id": "d7bef87f",
   "metadata": {},
   "outputs": [
    {
     "data": {
      "text/plain": [
       "{'name': 'Hai Yudhy',\n",
       " 'guess': [9, 20, 15],\n",
       " 'lower_bound': 10,\n",
       " 'upper_bound': 19,\n",
       " 'attemp': 3,\n",
       " 'target': 15,\n",
       " 'hint': 'Correct! You found the number 15 in 3 attempts.'}"
      ]
     },
     "execution_count": 48,
     "metadata": {},
     "output_type": "execute_result"
    }
   ],
   "source": [
    "result"
   ]
  },
  {
   "cell_type": "code",
   "execution_count": 49,
   "id": "dd6fcf03",
   "metadata": {},
   "outputs": [
    {
     "data": {
      "image/png": "[encoded data removed]",
      "text/plain": [
       "<IPython.core.display.Image object>"
      ]
     },
     "metadata": {},
     "output_type": "display_data"
    }
   ],
   "source": [
    "from IPython.display import Image, display\n",
    "display(Image(app.get_graph().draw_mermaid_png()))"
   ]
  }
 ],
 "metadata": {
  "kernelspec": {
   "display_name": "Python 3",
   "language": "python",
   "name": "python3"
  },
  "language_info": {
   "codemirror_mode": {
    "name": "ipython",
    "version": 3
   },
   "file_extension": ".py",
   "mimetype": "text/x-python",
   "name": "python",
   "nbconvert_exporter": "python",
   "pygments_lexer": "ipython3",
   "version": "3.10.11"
  }
 },
 "nbformat": 4,
 "nbformat_minor": 5
}
