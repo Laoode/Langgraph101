{
 "cells": [
  {
   "cell_type": "markdown",
   "id": "78ea8ff5",
   "metadata": {},
   "source": [
    "# Sequential Graph"
   ]
  },
  {
   "cell_type": "code",
   "execution_count": 8,
   "id": "e3eb10ba",
   "metadata": {},
   "outputs": [],
   "source": [
    "from typing import TypedDict, List\n",
    "from langgraph.graph import StateGraph"
   ]
  },
  {
   "cell_type": "code",
   "execution_count": 19,
   "id": "413629c6",
   "metadata": {},
   "outputs": [
    {
     "data": {
      "text/plain": [
       "'Hi yudhy, your age is 20 years old! You have skills in: python, ai, ml, and dl'"
      ]
     },
     "execution_count": 19,
     "metadata": {},
     "output_type": "execute_result"
    }
   ],
   "source": [
    "class AgentState(TypedDict):\n",
    "    name: str\n",
    "    age: int\n",
    "    skills: List[str]\n",
    "    result:str\n",
    "\n",
    "def agentName(state:AgentState)->AgentState:\n",
    "    state['result']= f\"Hi {state['name']}, \"\n",
    "\n",
    "    return state\n",
    "\n",
    "def agentAge(state:AgentState)->AgentState:\n",
    "    state['result']= state['result'] + f\"your age is {state['age']} years old!\"\n",
    "\n",
    "    return state\n",
    "\n",
    "def agentSkills(state:AgentState)->AgentState:\n",
    "    state['result'] = state ['result'] + f\" You have skills in: {', '.join(state['skills'][:-1])}, and {''.join(state['skills'][-1:])}\"\n",
    "    \n",
    "    return state\n",
    "\n",
    "graph = StateGraph(AgentState)\n",
    "\n",
    "graph.add_node('agentName', agentName)\n",
    "graph.add_node('agentAge', agentAge)\n",
    "graph.add_node('agentSkills', agentSkills)\n",
    "\n",
    "graph.add_edge('agentName','agentAge')\n",
    "graph.add_edge('agentAge','agentSkills')\n",
    "graph.set_entry_point('agentName')\n",
    "graph.set_finish_point('agentSkills')\n",
    "\n",
    "app = graph.compile()\n",
    "\n",
    "answer = app.invoke({'name':'yudhy', 'age':20, 'skills':['python', 'ai', 'ml', 'dl']})\n",
    "\n",
    "answer['result']"
   ]
  },
  {
   "cell_type": "code",
   "execution_count": 20,
   "id": "4f4e8c9a",
   "metadata": {},
   "outputs": [
    {
     "data": {
      "image/png": "[encoded data removed]",
      "text/plain": [
       "<IPython.core.display.Image object>"
      ]
     },
     "metadata": {},
     "output_type": "display_data"
    }
   ],
   "source": [
    "from IPython.display import Image, display\n",
    "display(Image(app.get_graph().draw_mermaid_png()))"
   ]
  }
 ],
 "metadata": {
  "kernelspec": {
   "display_name": "Python 3",
   "language": "python",
   "name": "python3"
  },
  "language_info": {
   "codemirror_mode": {
    "name": "ipython",
    "version": 3
   },
   "file_extension": ".py",
   "mimetype": "text/x-python",
   "name": "python",
   "nbconvert_exporter": "python",
   "pygments_lexer": "ipython3",
   "version": "3.11.9"
  }
 },
 "nbformat": 4,
 "nbformat_minor": 5
}
