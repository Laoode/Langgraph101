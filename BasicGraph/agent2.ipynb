{
 "cells": [
  {
   "cell_type": "markdown",
   "id": "a285debe",
   "metadata": {},
   "source": [
    "# Multiple Input"
   ]
  },
  {
   "cell_type": "code",
   "execution_count": 44,
   "id": "b4e96fa3",
   "metadata": {},
   "outputs": [],
   "source": [
    "from typing import Dict, List, TypedDict\n",
    "from langgraph.graph import StateGraph\n",
    "import math"
   ]
  },
  {
   "cell_type": "code",
   "execution_count": 45,
   "id": "5843e404",
   "metadata": {},
   "outputs": [],
   "source": [
    "class AgentState(TypedDict):\n",
    "    name:str\n",
    "    value:List[int]\n",
    "    operation:str\n",
    "    result:str"
   ]
  },
  {
   "cell_type": "code",
   "execution_count": null,
   "id": "876412c5",
   "metadata": {},
   "outputs": [],
   "source": [
    "def sayGreat(state: AgentState)->AgentState:\n",
    "    print(state)\n",
    "    state['result']= f\"Hi {state['name']}, I have {math.prod(state['value']) if state['operation']=='*' else sum(state['value'])} books\"\n",
    "    print(state)\n",
    "    #math.prod=product\n",
    "\n",
    "    return state"
   ]
  },
  {
   "cell_type": "code",
   "execution_count": 47,
   "id": "698959f0",
   "metadata": {},
   "outputs": [],
   "source": [
    "graph = StateGraph(AgentState)"
   ]
  },
  {
   "cell_type": "code",
   "execution_count": 48,
   "id": "0c9b9e5e",
   "metadata": {},
   "outputs": [],
   "source": [
    "graph.add_node(\"sayGreat\", sayGreat)\n",
    "graph.set_entry_point(\"sayGreat\")\n",
    "graph.set_finish_point(\"sayGreat\")\n",
    "\n",
    "app = graph.compile()"
   ]
  },
  {
   "cell_type": "code",
   "execution_count": 54,
   "id": "7ad29ca8",
   "metadata": {},
   "outputs": [
    {
     "name": "stdout",
     "output_type": "stream",
     "text": [
      "{'name': 'yudhy', 'value': [1, 2, 3, 4], 'operation': '+'}\n",
      "{'name': 'yudhy', 'value': [1, 2, 3, 4], 'operation': '+', 'result': 'Hi yudhy, I have 10 books'}\n"
     ]
    }
   ],
   "source": [
    "answer = app.invoke({'name':'yudhy', 'value':[1,2,3,4], 'operation':'+'})"
   ]
  },
  {
   "cell_type": "code",
   "execution_count": 55,
   "id": "52bba9e0",
   "metadata": {},
   "outputs": [
    {
     "name": "stdout",
     "output_type": "stream",
     "text": [
      "{'name': 'yudhy', 'value': [1, 2, 3, 4], 'operation': '+', 'result': 'Hi yudhy, I have 10 books'}\n"
     ]
    }
   ],
   "source": [
    "print(answer)"
   ]
  },
  {
   "cell_type": "code",
   "execution_count": 56,
   "id": "5c3ddbff",
   "metadata": {},
   "outputs": [
    {
     "data": {
      "text/plain": [
       "'Hi yudhy, I have 10 books'"
      ]
     },
     "execution_count": 56,
     "metadata": {},
     "output_type": "execute_result"
    }
   ],
   "source": [
    "answer['result']"
   ]
  }
 ],
 "metadata": {
  "kernelspec": {
   "display_name": "Python 3",
   "language": "python",
   "name": "python3"
  },
  "language_info": {
   "codemirror_mode": {
    "name": "ipython",
    "version": 3
   },
   "file_extension": ".py",
   "mimetype": "text/x-python",
   "name": "python",
   "nbconvert_exporter": "python",
   "pygments_lexer": "ipython3",
   "version": "3.11.9"
  }
 },
 "nbformat": 4,
 "nbformat_minor": 5
}
